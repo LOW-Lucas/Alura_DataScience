{
  "nbformat": 4,
  "nbformat_minor": 0,
  "metadata": {
    "colab": {
      "provenance": [],
      "authorship_tag": "ABX9TyN6jQKSj86biZ/g33nCVQvi",
      "include_colab_link": true
    },
    "kernelspec": {
      "name": "python3",
      "display_name": "Python 3"
    },
    "language_info": {
      "name": "python"
    }
  },
  "cells": [
    {
      "cell_type": "markdown",
      "metadata": {
        "id": "view-in-github",
        "colab_type": "text"
      },
      "source": [
        "<a href=\"https://colab.research.google.com/github/LOW-Lucas/Alura_DataScience/blob/main/TelecomX_BR.ipynb\" target=\"_parent\"><img src=\"https://colab.research.google.com/assets/colab-badge.svg\" alt=\"Open In Colab\"/></a>"
      ]
    },
    {
      "cell_type": "markdown",
      "source": [
        "# importando as Bibliotecas"
      ],
      "metadata": {
        "id": "31YmhWfUSosV"
      }
    },
    {
      "cell_type": "code",
      "execution_count": 14,
      "metadata": {
        "id": "m3GG2-yLroxx"
      },
      "outputs": [],
      "source": [
        "import pandas as pd\n",
        "import numpy as np\n",
        "import matplotlib.pyplot as plt\n",
        "import seaborn as sns"
      ]
    },
    {
      "cell_type": "markdown",
      "source": [
        "# Carregamento dos Dados"
      ],
      "metadata": {
        "id": "nVQ9ZI9LSmGO"
      }
    },
    {
      "cell_type": "code",
      "source": [
        "dados = pd.read_json(\"https://raw.githubusercontent.com/ingridcristh/challenge2-data-science/refs/heads/main/TelecomX_Data.json\")"
      ],
      "metadata": {
        "id": "Vq_BTlLGsQA0"
      },
      "execution_count": 15,
      "outputs": []
    },
    {
      "cell_type": "code",
      "source": [
        "dados"
      ],
      "metadata": {
        "colab": {
          "base_uri": "https://localhost:8080/",
          "height": 597
        },
        "id": "RSNoH3PQsVmL",
        "outputId": "49ad8d57-5c4b-4743-ee55-95a68c6b6343"
      },
      "execution_count": 16,
      "outputs": [
        {
          "output_type": "execute_result",
          "data": {
            "text/plain": [
              "      customerID Churn                                           customer  \\\n",
              "0     0002-ORFBO    No  {'gender': 'Female', 'SeniorCitizen': 0, 'Part...   \n",
              "1     0003-MKNFE    No  {'gender': 'Male', 'SeniorCitizen': 0, 'Partne...   \n",
              "2     0004-TLHLJ   Yes  {'gender': 'Male', 'SeniorCitizen': 0, 'Partne...   \n",
              "3     0011-IGKFF   Yes  {'gender': 'Male', 'SeniorCitizen': 1, 'Partne...   \n",
              "4     0013-EXCHZ   Yes  {'gender': 'Female', 'SeniorCitizen': 1, 'Part...   \n",
              "...          ...   ...                                                ...   \n",
              "7262  9987-LUTYD    No  {'gender': 'Female', 'SeniorCitizen': 0, 'Part...   \n",
              "7263  9992-RRAMN   Yes  {'gender': 'Male', 'SeniorCitizen': 0, 'Partne...   \n",
              "7264  9992-UJOEL    No  {'gender': 'Male', 'SeniorCitizen': 0, 'Partne...   \n",
              "7265  9993-LHIEB    No  {'gender': 'Male', 'SeniorCitizen': 0, 'Partne...   \n",
              "7266  9995-HOTOH    No  {'gender': 'Male', 'SeniorCitizen': 0, 'Partne...   \n",
              "\n",
              "                                                  phone  \\\n",
              "0        {'PhoneService': 'Yes', 'MultipleLines': 'No'}   \n",
              "1       {'PhoneService': 'Yes', 'MultipleLines': 'Yes'}   \n",
              "2        {'PhoneService': 'Yes', 'MultipleLines': 'No'}   \n",
              "3        {'PhoneService': 'Yes', 'MultipleLines': 'No'}   \n",
              "4        {'PhoneService': 'Yes', 'MultipleLines': 'No'}   \n",
              "...                                                 ...   \n",
              "7262     {'PhoneService': 'Yes', 'MultipleLines': 'No'}   \n",
              "7263    {'PhoneService': 'Yes', 'MultipleLines': 'Yes'}   \n",
              "7264     {'PhoneService': 'Yes', 'MultipleLines': 'No'}   \n",
              "7265     {'PhoneService': 'Yes', 'MultipleLines': 'No'}   \n",
              "7266  {'PhoneService': 'No', 'MultipleLines': 'No ph...   \n",
              "\n",
              "                                               internet  \\\n",
              "0     {'InternetService': 'DSL', 'OnlineSecurity': '...   \n",
              "1     {'InternetService': 'DSL', 'OnlineSecurity': '...   \n",
              "2     {'InternetService': 'Fiber optic', 'OnlineSecu...   \n",
              "3     {'InternetService': 'Fiber optic', 'OnlineSecu...   \n",
              "4     {'InternetService': 'Fiber optic', 'OnlineSecu...   \n",
              "...                                                 ...   \n",
              "7262  {'InternetService': 'DSL', 'OnlineSecurity': '...   \n",
              "7263  {'InternetService': 'Fiber optic', 'OnlineSecu...   \n",
              "7264  {'InternetService': 'DSL', 'OnlineSecurity': '...   \n",
              "7265  {'InternetService': 'DSL', 'OnlineSecurity': '...   \n",
              "7266  {'InternetService': 'DSL', 'OnlineSecurity': '...   \n",
              "\n",
              "                                                account  \n",
              "0     {'Contract': 'One year', 'PaperlessBilling': '...  \n",
              "1     {'Contract': 'Month-to-month', 'PaperlessBilli...  \n",
              "2     {'Contract': 'Month-to-month', 'PaperlessBilli...  \n",
              "3     {'Contract': 'Month-to-month', 'PaperlessBilli...  \n",
              "4     {'Contract': 'Month-to-month', 'PaperlessBilli...  \n",
              "...                                                 ...  \n",
              "7262  {'Contract': 'One year', 'PaperlessBilling': '...  \n",
              "7263  {'Contract': 'Month-to-month', 'PaperlessBilli...  \n",
              "7264  {'Contract': 'Month-to-month', 'PaperlessBilli...  \n",
              "7265  {'Contract': 'Two year', 'PaperlessBilling': '...  \n",
              "7266  {'Contract': 'Two year', 'PaperlessBilling': '...  \n",
              "\n",
              "[7267 rows x 6 columns]"
            ],
            "text/html": [
              "\n",
              "  <div id=\"df-2eecde30-08f1-48cf-a0f9-29853930d1ee\" class=\"colab-df-container\">\n",
              "    <div>\n",
              "<style scoped>\n",
              "    .dataframe tbody tr th:only-of-type {\n",
              "        vertical-align: middle;\n",
              "    }\n",
              "\n",
              "    .dataframe tbody tr th {\n",
              "        vertical-align: top;\n",
              "    }\n",
              "\n",
              "    .dataframe thead th {\n",
              "        text-align: right;\n",
              "    }\n",
              "</style>\n",
              "<table border=\"1\" class=\"dataframe\">\n",
              "  <thead>\n",
              "    <tr style=\"text-align: right;\">\n",
              "      <th></th>\n",
              "      <th>customerID</th>\n",
              "      <th>Churn</th>\n",
              "      <th>customer</th>\n",
              "      <th>phone</th>\n",
              "      <th>internet</th>\n",
              "      <th>account</th>\n",
              "    </tr>\n",
              "  </thead>\n",
              "  <tbody>\n",
              "    <tr>\n",
              "      <th>0</th>\n",
              "      <td>0002-ORFBO</td>\n",
              "      <td>No</td>\n",
              "      <td>{'gender': 'Female', 'SeniorCitizen': 0, 'Part...</td>\n",
              "      <td>{'PhoneService': 'Yes', 'MultipleLines': 'No'}</td>\n",
              "      <td>{'InternetService': 'DSL', 'OnlineSecurity': '...</td>\n",
              "      <td>{'Contract': 'One year', 'PaperlessBilling': '...</td>\n",
              "    </tr>\n",
              "    <tr>\n",
              "      <th>1</th>\n",
              "      <td>0003-MKNFE</td>\n",
              "      <td>No</td>\n",
              "      <td>{'gender': 'Male', 'SeniorCitizen': 0, 'Partne...</td>\n",
              "      <td>{'PhoneService': 'Yes', 'MultipleLines': 'Yes'}</td>\n",
              "      <td>{'InternetService': 'DSL', 'OnlineSecurity': '...</td>\n",
              "      <td>{'Contract': 'Month-to-month', 'PaperlessBilli...</td>\n",
              "    </tr>\n",
              "    <tr>\n",
              "      <th>2</th>\n",
              "      <td>0004-TLHLJ</td>\n",
              "      <td>Yes</td>\n",
              "      <td>{'gender': 'Male', 'SeniorCitizen': 0, 'Partne...</td>\n",
              "      <td>{'PhoneService': 'Yes', 'MultipleLines': 'No'}</td>\n",
              "      <td>{'InternetService': 'Fiber optic', 'OnlineSecu...</td>\n",
              "      <td>{'Contract': 'Month-to-month', 'PaperlessBilli...</td>\n",
              "    </tr>\n",
              "    <tr>\n",
              "      <th>3</th>\n",
              "      <td>0011-IGKFF</td>\n",
              "      <td>Yes</td>\n",
              "      <td>{'gender': 'Male', 'SeniorCitizen': 1, 'Partne...</td>\n",
              "      <td>{'PhoneService': 'Yes', 'MultipleLines': 'No'}</td>\n",
              "      <td>{'InternetService': 'Fiber optic', 'OnlineSecu...</td>\n",
              "      <td>{'Contract': 'Month-to-month', 'PaperlessBilli...</td>\n",
              "    </tr>\n",
              "    <tr>\n",
              "      <th>4</th>\n",
              "      <td>0013-EXCHZ</td>\n",
              "      <td>Yes</td>\n",
              "      <td>{'gender': 'Female', 'SeniorCitizen': 1, 'Part...</td>\n",
              "      <td>{'PhoneService': 'Yes', 'MultipleLines': 'No'}</td>\n",
              "      <td>{'InternetService': 'Fiber optic', 'OnlineSecu...</td>\n",
              "      <td>{'Contract': 'Month-to-month', 'PaperlessBilli...</td>\n",
              "    </tr>\n",
              "    <tr>\n",
              "      <th>...</th>\n",
              "      <td>...</td>\n",
              "      <td>...</td>\n",
              "      <td>...</td>\n",
              "      <td>...</td>\n",
              "      <td>...</td>\n",
              "      <td>...</td>\n",
              "    </tr>\n",
              "    <tr>\n",
              "      <th>7262</th>\n",
              "      <td>9987-LUTYD</td>\n",
              "      <td>No</td>\n",
              "      <td>{'gender': 'Female', 'SeniorCitizen': 0, 'Part...</td>\n",
              "      <td>{'PhoneService': 'Yes', 'MultipleLines': 'No'}</td>\n",
              "      <td>{'InternetService': 'DSL', 'OnlineSecurity': '...</td>\n",
              "      <td>{'Contract': 'One year', 'PaperlessBilling': '...</td>\n",
              "    </tr>\n",
              "    <tr>\n",
              "      <th>7263</th>\n",
              "      <td>9992-RRAMN</td>\n",
              "      <td>Yes</td>\n",
              "      <td>{'gender': 'Male', 'SeniorCitizen': 0, 'Partne...</td>\n",
              "      <td>{'PhoneService': 'Yes', 'MultipleLines': 'Yes'}</td>\n",
              "      <td>{'InternetService': 'Fiber optic', 'OnlineSecu...</td>\n",
              "      <td>{'Contract': 'Month-to-month', 'PaperlessBilli...</td>\n",
              "    </tr>\n",
              "    <tr>\n",
              "      <th>7264</th>\n",
              "      <td>9992-UJOEL</td>\n",
              "      <td>No</td>\n",
              "      <td>{'gender': 'Male', 'SeniorCitizen': 0, 'Partne...</td>\n",
              "      <td>{'PhoneService': 'Yes', 'MultipleLines': 'No'}</td>\n",
              "      <td>{'InternetService': 'DSL', 'OnlineSecurity': '...</td>\n",
              "      <td>{'Contract': 'Month-to-month', 'PaperlessBilli...</td>\n",
              "    </tr>\n",
              "    <tr>\n",
              "      <th>7265</th>\n",
              "      <td>9993-LHIEB</td>\n",
              "      <td>No</td>\n",
              "      <td>{'gender': 'Male', 'SeniorCitizen': 0, 'Partne...</td>\n",
              "      <td>{'PhoneService': 'Yes', 'MultipleLines': 'No'}</td>\n",
              "      <td>{'InternetService': 'DSL', 'OnlineSecurity': '...</td>\n",
              "      <td>{'Contract': 'Two year', 'PaperlessBilling': '...</td>\n",
              "    </tr>\n",
              "    <tr>\n",
              "      <th>7266</th>\n",
              "      <td>9995-HOTOH</td>\n",
              "      <td>No</td>\n",
              "      <td>{'gender': 'Male', 'SeniorCitizen': 0, 'Partne...</td>\n",
              "      <td>{'PhoneService': 'No', 'MultipleLines': 'No ph...</td>\n",
              "      <td>{'InternetService': 'DSL', 'OnlineSecurity': '...</td>\n",
              "      <td>{'Contract': 'Two year', 'PaperlessBilling': '...</td>\n",
              "    </tr>\n",
              "  </tbody>\n",
              "</table>\n",
              "<p>7267 rows × 6 columns</p>\n",
              "</div>\n",
              "    <div class=\"colab-df-buttons\">\n",
              "\n",
              "  <div class=\"colab-df-container\">\n",
              "    <button class=\"colab-df-convert\" onclick=\"convertToInteractive('df-2eecde30-08f1-48cf-a0f9-29853930d1ee')\"\n",
              "            title=\"Convert this dataframe to an interactive table.\"\n",
              "            style=\"display:none;\">\n",
              "\n",
              "  <svg xmlns=\"http://www.w3.org/2000/svg\" height=\"24px\" viewBox=\"0 -960 960 960\">\n",
              "    <path d=\"M120-120v-720h720v720H120Zm60-500h600v-160H180v160Zm220 220h160v-160H400v160Zm0 220h160v-160H400v160ZM180-400h160v-160H180v160Zm440 0h160v-160H620v160ZM180-180h160v-160H180v160Zm440 0h160v-160H620v160Z\"/>\n",
              "  </svg>\n",
              "    </button>\n",
              "\n",
              "  <style>\n",
              "    .colab-df-container {\n",
              "      display:flex;\n",
              "      gap: 12px;\n",
              "    }\n",
              "\n",
              "    .colab-df-convert {\n",
              "      background-color: #E8F0FE;\n",
              "      border: none;\n",
              "      border-radius: 50%;\n",
              "      cursor: pointer;\n",
              "      display: none;\n",
              "      fill: #1967D2;\n",
              "      height: 32px;\n",
              "      padding: 0 0 0 0;\n",
              "      width: 32px;\n",
              "    }\n",
              "\n",
              "    .colab-df-convert:hover {\n",
              "      background-color: #E2EBFA;\n",
              "      box-shadow: 0px 1px 2px rgba(60, 64, 67, 0.3), 0px 1px 3px 1px rgba(60, 64, 67, 0.15);\n",
              "      fill: #174EA6;\n",
              "    }\n",
              "\n",
              "    .colab-df-buttons div {\n",
              "      margin-bottom: 4px;\n",
              "    }\n",
              "\n",
              "    [theme=dark] .colab-df-convert {\n",
              "      background-color: #3B4455;\n",
              "      fill: #D2E3FC;\n",
              "    }\n",
              "\n",
              "    [theme=dark] .colab-df-convert:hover {\n",
              "      background-color: #434B5C;\n",
              "      box-shadow: 0px 1px 3px 1px rgba(0, 0, 0, 0.15);\n",
              "      filter: drop-shadow(0px 1px 2px rgba(0, 0, 0, 0.3));\n",
              "      fill: #FFFFFF;\n",
              "    }\n",
              "  </style>\n",
              "\n",
              "    <script>\n",
              "      const buttonEl =\n",
              "        document.querySelector('#df-2eecde30-08f1-48cf-a0f9-29853930d1ee button.colab-df-convert');\n",
              "      buttonEl.style.display =\n",
              "        google.colab.kernel.accessAllowed ? 'block' : 'none';\n",
              "\n",
              "      async function convertToInteractive(key) {\n",
              "        const element = document.querySelector('#df-2eecde30-08f1-48cf-a0f9-29853930d1ee');\n",
              "        const dataTable =\n",
              "          await google.colab.kernel.invokeFunction('convertToInteractive',\n",
              "                                                    [key], {});\n",
              "        if (!dataTable) return;\n",
              "\n",
              "        const docLinkHtml = 'Like what you see? Visit the ' +\n",
              "          '<a target=\"_blank\" href=https://colab.research.google.com/notebooks/data_table.ipynb>data table notebook</a>'\n",
              "          + ' to learn more about interactive tables.';\n",
              "        element.innerHTML = '';\n",
              "        dataTable['output_type'] = 'display_data';\n",
              "        await google.colab.output.renderOutput(dataTable, element);\n",
              "        const docLink = document.createElement('div');\n",
              "        docLink.innerHTML = docLinkHtml;\n",
              "        element.appendChild(docLink);\n",
              "      }\n",
              "    </script>\n",
              "  </div>\n",
              "\n",
              "\n",
              "    <div id=\"df-b4083ee6-c9a8-43b0-ac7d-252fd950d129\">\n",
              "      <button class=\"colab-df-quickchart\" onclick=\"quickchart('df-b4083ee6-c9a8-43b0-ac7d-252fd950d129')\"\n",
              "                title=\"Suggest charts\"\n",
              "                style=\"display:none;\">\n",
              "\n",
              "<svg xmlns=\"http://www.w3.org/2000/svg\" height=\"24px\"viewBox=\"0 0 24 24\"\n",
              "     width=\"24px\">\n",
              "    <g>\n",
              "        <path d=\"M19 3H5c-1.1 0-2 .9-2 2v14c0 1.1.9 2 2 2h14c1.1 0 2-.9 2-2V5c0-1.1-.9-2-2-2zM9 17H7v-7h2v7zm4 0h-2V7h2v10zm4 0h-2v-4h2v4z\"/>\n",
              "    </g>\n",
              "</svg>\n",
              "      </button>\n",
              "\n",
              "<style>\n",
              "  .colab-df-quickchart {\n",
              "      --bg-color: #E8F0FE;\n",
              "      --fill-color: #1967D2;\n",
              "      --hover-bg-color: #E2EBFA;\n",
              "      --hover-fill-color: #174EA6;\n",
              "      --disabled-fill-color: #AAA;\n",
              "      --disabled-bg-color: #DDD;\n",
              "  }\n",
              "\n",
              "  [theme=dark] .colab-df-quickchart {\n",
              "      --bg-color: #3B4455;\n",
              "      --fill-color: #D2E3FC;\n",
              "      --hover-bg-color: #434B5C;\n",
              "      --hover-fill-color: #FFFFFF;\n",
              "      --disabled-bg-color: #3B4455;\n",
              "      --disabled-fill-color: #666;\n",
              "  }\n",
              "\n",
              "  .colab-df-quickchart {\n",
              "    background-color: var(--bg-color);\n",
              "    border: none;\n",
              "    border-radius: 50%;\n",
              "    cursor: pointer;\n",
              "    display: none;\n",
              "    fill: var(--fill-color);\n",
              "    height: 32px;\n",
              "    padding: 0;\n",
              "    width: 32px;\n",
              "  }\n",
              "\n",
              "  .colab-df-quickchart:hover {\n",
              "    background-color: var(--hover-bg-color);\n",
              "    box-shadow: 0 1px 2px rgba(60, 64, 67, 0.3), 0 1px 3px 1px rgba(60, 64, 67, 0.15);\n",
              "    fill: var(--button-hover-fill-color);\n",
              "  }\n",
              "\n",
              "  .colab-df-quickchart-complete:disabled,\n",
              "  .colab-df-quickchart-complete:disabled:hover {\n",
              "    background-color: var(--disabled-bg-color);\n",
              "    fill: var(--disabled-fill-color);\n",
              "    box-shadow: none;\n",
              "  }\n",
              "\n",
              "  .colab-df-spinner {\n",
              "    border: 2px solid var(--fill-color);\n",
              "    border-color: transparent;\n",
              "    border-bottom-color: var(--fill-color);\n",
              "    animation:\n",
              "      spin 1s steps(1) infinite;\n",
              "  }\n",
              "\n",
              "  @keyframes spin {\n",
              "    0% {\n",
              "      border-color: transparent;\n",
              "      border-bottom-color: var(--fill-color);\n",
              "      border-left-color: var(--fill-color);\n",
              "    }\n",
              "    20% {\n",
              "      border-color: transparent;\n",
              "      border-left-color: var(--fill-color);\n",
              "      border-top-color: var(--fill-color);\n",
              "    }\n",
              "    30% {\n",
              "      border-color: transparent;\n",
              "      border-left-color: var(--fill-color);\n",
              "      border-top-color: var(--fill-color);\n",
              "      border-right-color: var(--fill-color);\n",
              "    }\n",
              "    40% {\n",
              "      border-color: transparent;\n",
              "      border-right-color: var(--fill-color);\n",
              "      border-top-color: var(--fill-color);\n",
              "    }\n",
              "    60% {\n",
              "      border-color: transparent;\n",
              "      border-right-color: var(--fill-color);\n",
              "    }\n",
              "    80% {\n",
              "      border-color: transparent;\n",
              "      border-right-color: var(--fill-color);\n",
              "      border-bottom-color: var(--fill-color);\n",
              "    }\n",
              "    90% {\n",
              "      border-color: transparent;\n",
              "      border-bottom-color: var(--fill-color);\n",
              "    }\n",
              "  }\n",
              "</style>\n",
              "\n",
              "      <script>\n",
              "        async function quickchart(key) {\n",
              "          const quickchartButtonEl =\n",
              "            document.querySelector('#' + key + ' button');\n",
              "          quickchartButtonEl.disabled = true;  // To prevent multiple clicks.\n",
              "          quickchartButtonEl.classList.add('colab-df-spinner');\n",
              "          try {\n",
              "            const charts = await google.colab.kernel.invokeFunction(\n",
              "                'suggestCharts', [key], {});\n",
              "          } catch (error) {\n",
              "            console.error('Error during call to suggestCharts:', error);\n",
              "          }\n",
              "          quickchartButtonEl.classList.remove('colab-df-spinner');\n",
              "          quickchartButtonEl.classList.add('colab-df-quickchart-complete');\n",
              "        }\n",
              "        (() => {\n",
              "          let quickchartButtonEl =\n",
              "            document.querySelector('#df-b4083ee6-c9a8-43b0-ac7d-252fd950d129 button');\n",
              "          quickchartButtonEl.style.display =\n",
              "            google.colab.kernel.accessAllowed ? 'block' : 'none';\n",
              "        })();\n",
              "      </script>\n",
              "    </div>\n",
              "\n",
              "  <div id=\"id_7bdd9a45-a32b-43b7-9a6e-85584f15dab4\">\n",
              "    <style>\n",
              "      .colab-df-generate {\n",
              "        background-color: #E8F0FE;\n",
              "        border: none;\n",
              "        border-radius: 50%;\n",
              "        cursor: pointer;\n",
              "        display: none;\n",
              "        fill: #1967D2;\n",
              "        height: 32px;\n",
              "        padding: 0 0 0 0;\n",
              "        width: 32px;\n",
              "      }\n",
              "\n",
              "      .colab-df-generate:hover {\n",
              "        background-color: #E2EBFA;\n",
              "        box-shadow: 0px 1px 2px rgba(60, 64, 67, 0.3), 0px 1px 3px 1px rgba(60, 64, 67, 0.15);\n",
              "        fill: #174EA6;\n",
              "      }\n",
              "\n",
              "      [theme=dark] .colab-df-generate {\n",
              "        background-color: #3B4455;\n",
              "        fill: #D2E3FC;\n",
              "      }\n",
              "\n",
              "      [theme=dark] .colab-df-generate:hover {\n",
              "        background-color: #434B5C;\n",
              "        box-shadow: 0px 1px 3px 1px rgba(0, 0, 0, 0.15);\n",
              "        filter: drop-shadow(0px 1px 2px rgba(0, 0, 0, 0.3));\n",
              "        fill: #FFFFFF;\n",
              "      }\n",
              "    </style>\n",
              "    <button class=\"colab-df-generate\" onclick=\"generateWithVariable('dados')\"\n",
              "            title=\"Generate code using this dataframe.\"\n",
              "            style=\"display:none;\">\n",
              "\n",
              "  <svg xmlns=\"http://www.w3.org/2000/svg\" height=\"24px\"viewBox=\"0 0 24 24\"\n",
              "       width=\"24px\">\n",
              "    <path d=\"M7,19H8.4L18.45,9,17,7.55,7,17.6ZM5,21V16.75L18.45,3.32a2,2,0,0,1,2.83,0l1.4,1.43a1.91,1.91,0,0,1,.58,1.4,1.91,1.91,0,0,1-.58,1.4L9.25,21ZM18.45,9,17,7.55Zm-12,3A5.31,5.31,0,0,0,4.9,8.1,5.31,5.31,0,0,0,1,6.5,5.31,5.31,0,0,0,4.9,4.9,5.31,5.31,0,0,0,6.5,1,5.31,5.31,0,0,0,8.1,4.9,5.31,5.31,0,0,0,12,6.5,5.46,5.46,0,0,0,6.5,12Z\"/>\n",
              "  </svg>\n",
              "    </button>\n",
              "    <script>\n",
              "      (() => {\n",
              "      const buttonEl =\n",
              "        document.querySelector('#id_7bdd9a45-a32b-43b7-9a6e-85584f15dab4 button.colab-df-generate');\n",
              "      buttonEl.style.display =\n",
              "        google.colab.kernel.accessAllowed ? 'block' : 'none';\n",
              "\n",
              "      buttonEl.onclick = () => {\n",
              "        google.colab.notebook.generateWithVariable('dados');\n",
              "      }\n",
              "      })();\n",
              "    </script>\n",
              "  </div>\n",
              "\n",
              "    </div>\n",
              "  </div>\n"
            ],
            "application/vnd.google.colaboratory.intrinsic+json": {
              "type": "dataframe",
              "variable_name": "dados",
              "summary": "{\n  \"name\": \"dados\",\n  \"rows\": 7267,\n  \"fields\": [\n    {\n      \"column\": \"customerID\",\n      \"properties\": {\n        \"dtype\": \"string\",\n        \"num_unique_values\": 7267,\n        \"samples\": [\n          \"2038-OEQZH\",\n          \"6322-HRPFA\",\n          \"3969-JQABI\"\n        ],\n        \"semantic_type\": \"\",\n        \"description\": \"\"\n      }\n    },\n    {\n      \"column\": \"Churn\",\n      \"properties\": {\n        \"dtype\": \"category\",\n        \"num_unique_values\": 3,\n        \"samples\": [\n          \"No\",\n          \"Yes\",\n          \"\"\n        ],\n        \"semantic_type\": \"\",\n        \"description\": \"\"\n      }\n    },\n    {\n      \"column\": \"customer\",\n      \"properties\": {\n        \"dtype\": \"object\",\n        \"semantic_type\": \"\",\n        \"description\": \"\"\n      }\n    },\n    {\n      \"column\": \"phone\",\n      \"properties\": {\n        \"dtype\": \"object\",\n        \"semantic_type\": \"\",\n        \"description\": \"\"\n      }\n    },\n    {\n      \"column\": \"internet\",\n      \"properties\": {\n        \"dtype\": \"object\",\n        \"semantic_type\": \"\",\n        \"description\": \"\"\n      }\n    },\n    {\n      \"column\": \"account\",\n      \"properties\": {\n        \"dtype\": \"object\",\n        \"semantic_type\": \"\",\n        \"description\": \"\"\n      }\n    }\n  ]\n}"
            }
          },
          "metadata": {},
          "execution_count": 16
        }
      ]
    },
    {
      "cell_type": "markdown",
      "source": [
        "# Exploração Inicial"
      ],
      "metadata": {
        "id": "IYESnzq-SgTm"
      }
    },
    {
      "cell_type": "code",
      "source": [
        "dados.info()"
      ],
      "metadata": {
        "colab": {
          "base_uri": "https://localhost:8080/"
        },
        "id": "BmuNogcOtGGa",
        "outputId": "4eff52d7-6442-4793-b686-a88bde1a227c"
      },
      "execution_count": 17,
      "outputs": [
        {
          "output_type": "stream",
          "name": "stdout",
          "text": [
            "<class 'pandas.core.frame.DataFrame'>\n",
            "RangeIndex: 7267 entries, 0 to 7266\n",
            "Data columns (total 6 columns):\n",
            " #   Column      Non-Null Count  Dtype \n",
            "---  ------      --------------  ----- \n",
            " 0   customerID  7267 non-null   object\n",
            " 1   Churn       7267 non-null   object\n",
            " 2   customer    7267 non-null   object\n",
            " 3   phone       7267 non-null   object\n",
            " 4   internet    7267 non-null   object\n",
            " 5   account     7267 non-null   object\n",
            "dtypes: object(6)\n",
            "memory usage: 340.8+ KB\n"
          ]
        }
      ]
    },
    {
      "cell_type": "code",
      "source": [
        "dados.shape"
      ],
      "metadata": {
        "colab": {
          "base_uri": "https://localhost:8080/"
        },
        "id": "bvbMVl1QHKvl",
        "outputId": "74310e8f-d363-4561-8a24-0f5c81a9ee58"
      },
      "execution_count": 18,
      "outputs": [
        {
          "output_type": "execute_result",
          "data": {
            "text/plain": [
              "(7267, 6)"
            ]
          },
          "metadata": {},
          "execution_count": 18
        }
      ]
    },
    {
      "cell_type": "code",
      "source": [
        "colunas = list(dados.columns)\n",
        "colunas"
      ],
      "metadata": {
        "colab": {
          "base_uri": "https://localhost:8080/"
        },
        "id": "Sstj51Iwy1o3",
        "outputId": "e7f87fb5-eddb-411d-efc5-09b7bb0662d6"
      },
      "execution_count": 19,
      "outputs": [
        {
          "output_type": "execute_result",
          "data": {
            "text/plain": [
              "['customerID', 'Churn', 'customer', 'phone', 'internet', 'account']"
            ]
          },
          "metadata": {},
          "execution_count": 19
        }
      ]
    },
    {
      "cell_type": "markdown",
      "source": [
        "# Tratamento as Inconsistências"
      ],
      "metadata": {
        "id": "HTNJqCBNqSlx"
      }
    },
    {
      "cell_type": "code",
      "source": [
        "print(type(dados['customer'].iloc[0]))\n",
        "print(dados['customer'].iloc[0])"
      ],
      "metadata": {
        "colab": {
          "base_uri": "https://localhost:8080/"
        },
        "id": "SqofofsQpGzW",
        "outputId": "99927c86-165e-459d-d13c-35a7fa0cded5"
      },
      "execution_count": 20,
      "outputs": [
        {
          "output_type": "stream",
          "name": "stdout",
          "text": [
            "<class 'dict'>\n",
            "{'gender': 'Female', 'SeniorCitizen': 0, 'Partner': 'Yes', 'Dependents': 'Yes', 'tenure': 9}\n"
          ]
        }
      ]
    },
    {
      "cell_type": "code",
      "source": [
        "try:\n",
        "    customer_dados = pd.json_normalize(dados['customer'])\n",
        "    phone_dados = pd.json_normalize(dados['phone'])\n",
        "    internet_dados = pd.json_normalize(dados['internet'])\n",
        "    account_dados = pd.json_normalize(dados['account'])\n",
        "\n",
        "    dados = pd.concat([\n",
        "        dados.drop(['customer', 'phone', 'internet', 'account'], axis=1),\n",
        "        customer_dados,\n",
        "        phone_dados,\n",
        "        internet_dados,\n",
        "        account_dados\n",
        "    ], axis=1)\n",
        "\n",
        "    dados = dados.drop_duplicates()\n",
        "    cat_columns = dados.select_dtypes(include=['object']).columns\n",
        "    dados[cat_columns] = dados[cat_columns].astype('category')\n",
        "    print(\"\\DataFrame após o tratamento:\")\n",
        "    print(dados.info())\n",
        "\n",
        "except Exception as e:\n",
        "    print(f\"Erro ao processar os dados: {str(e)}\")"
      ],
      "metadata": {
        "colab": {
          "base_uri": "https://localhost:8080/"
        },
        "id": "Fapcb7o_pY0o",
        "outputId": "9300a9f5-bb0d-4718-f698-d76f8e5e04b7"
      },
      "execution_count": 21,
      "outputs": [
        {
          "output_type": "stream",
          "name": "stdout",
          "text": [
            "\\DataFrame após o tratamento:\n",
            "<class 'pandas.core.frame.DataFrame'>\n",
            "RangeIndex: 7267 entries, 0 to 7266\n",
            "Data columns (total 21 columns):\n",
            " #   Column            Non-Null Count  Dtype   \n",
            "---  ------            --------------  -----   \n",
            " 0   customerID        7267 non-null   category\n",
            " 1   Churn             7267 non-null   category\n",
            " 2   gender            7267 non-null   category\n",
            " 3   SeniorCitizen     7267 non-null   int64   \n",
            " 4   Partner           7267 non-null   category\n",
            " 5   Dependents        7267 non-null   category\n",
            " 6   tenure            7267 non-null   int64   \n",
            " 7   PhoneService      7267 non-null   category\n",
            " 8   MultipleLines     7267 non-null   category\n",
            " 9   InternetService   7267 non-null   category\n",
            " 10  OnlineSecurity    7267 non-null   category\n",
            " 11  OnlineBackup      7267 non-null   category\n",
            " 12  DeviceProtection  7267 non-null   category\n",
            " 13  TechSupport       7267 non-null   category\n",
            " 14  StreamingTV       7267 non-null   category\n",
            " 15  StreamingMovies   7267 non-null   category\n",
            " 16  Contract          7267 non-null   category\n",
            " 17  PaperlessBilling  7267 non-null   category\n",
            " 18  PaymentMethod     7267 non-null   category\n",
            " 19  Charges.Monthly   7267 non-null   float64 \n",
            " 20  Charges.Total     7267 non-null   category\n",
            "dtypes: category(18), float64(1), int64(2)\n",
            "memory usage: 938.4 KB\n",
            "None\n"
          ]
        }
      ]
    },
    {
      "cell_type": "markdown",
      "source": [
        "# Criação da Coluna (Contas_Diarias)"
      ],
      "metadata": {
        "id": "BQ0VSFFtqRVX"
      }
    },
    {
      "cell_type": "code",
      "source": [
        "dados['Contas_Diarias'] = dados['Charges.Monthly'] / 30\n",
        "print(\"Estatísticas -- Contas_Diarias:\")\n",
        "dados['Contas_Diarias'].describe()"
      ],
      "metadata": {
        "colab": {
          "base_uri": "https://localhost:8080/",
          "height": 352
        },
        "id": "F036wBz1qHW2",
        "outputId": "0bac600a-18c6-4b9d-bb97-bc7678c5985b"
      },
      "execution_count": 22,
      "outputs": [
        {
          "output_type": "stream",
          "name": "stdout",
          "text": [
            "Estatísticas -- Contas_Diarias:\n"
          ]
        },
        {
          "output_type": "execute_result",
          "data": {
            "text/plain": [
              "count    7267.000000\n",
              "mean        2.157337\n",
              "std         1.004319\n",
              "min         0.608333\n",
              "25%         1.180833\n",
              "50%         2.343333\n",
              "75%         2.995833\n",
              "max         3.958333\n",
              "Name: Contas_Diarias, dtype: float64"
            ],
            "text/html": [
              "<div>\n",
              "<style scoped>\n",
              "    .dataframe tbody tr th:only-of-type {\n",
              "        vertical-align: middle;\n",
              "    }\n",
              "\n",
              "    .dataframe tbody tr th {\n",
              "        vertical-align: top;\n",
              "    }\n",
              "\n",
              "    .dataframe thead th {\n",
              "        text-align: right;\n",
              "    }\n",
              "</style>\n",
              "<table border=\"1\" class=\"dataframe\">\n",
              "  <thead>\n",
              "    <tr style=\"text-align: right;\">\n",
              "      <th></th>\n",
              "      <th>Contas_Diarias</th>\n",
              "    </tr>\n",
              "  </thead>\n",
              "  <tbody>\n",
              "    <tr>\n",
              "      <th>count</th>\n",
              "      <td>7267.000000</td>\n",
              "    </tr>\n",
              "    <tr>\n",
              "      <th>mean</th>\n",
              "      <td>2.157337</td>\n",
              "    </tr>\n",
              "    <tr>\n",
              "      <th>std</th>\n",
              "      <td>1.004319</td>\n",
              "    </tr>\n",
              "    <tr>\n",
              "      <th>min</th>\n",
              "      <td>0.608333</td>\n",
              "    </tr>\n",
              "    <tr>\n",
              "      <th>25%</th>\n",
              "      <td>1.180833</td>\n",
              "    </tr>\n",
              "    <tr>\n",
              "      <th>50%</th>\n",
              "      <td>2.343333</td>\n",
              "    </tr>\n",
              "    <tr>\n",
              "      <th>75%</th>\n",
              "      <td>2.995833</td>\n",
              "    </tr>\n",
              "    <tr>\n",
              "      <th>max</th>\n",
              "      <td>3.958333</td>\n",
              "    </tr>\n",
              "  </tbody>\n",
              "</table>\n",
              "</div><br><label><b>dtype:</b> float64</label>"
            ]
          },
          "metadata": {},
          "execution_count": 22
        }
      ]
    },
    {
      "cell_type": "markdown",
      "source": [
        "# Análise Descritiva"
      ],
      "metadata": {
        "id": "ht0wE7DZqqCj"
      }
    },
    {
      "cell_type": "code",
      "source": [
        "print(\"Análise das variáveis numéricas:\")\n",
        "print(dados.describe())\n",
        "\n",
        "print(\"\\nDistribuição das variáveis em formato categórico:\")\n",
        "for col in dados.select_dtypes(['category']).columns:\n",
        "    print(f\"\\n{col}:\")\n",
        "    print(dados[col].value_counts())"
      ],
      "metadata": {
        "colab": {
          "base_uri": "https://localhost:8080/"
        },
        "id": "1lc35mdbqpyF",
        "outputId": "ff60ed0d-5054-4057-f35c-3ddb47096d38"
      },
      "execution_count": 23,
      "outputs": [
        {
          "output_type": "stream",
          "name": "stdout",
          "text": [
            "Análise das variáveis numéricas:\n",
            "       SeniorCitizen       tenure  Charges.Monthly  Contas_Diarias\n",
            "count    7267.000000  7267.000000      7267.000000     7267.000000\n",
            "mean        0.162653    32.346498        64.720098        2.157337\n",
            "std         0.369074    24.571773        30.129572        1.004319\n",
            "min         0.000000     0.000000        18.250000        0.608333\n",
            "25%         0.000000     9.000000        35.425000        1.180833\n",
            "50%         0.000000    29.000000        70.300000        2.343333\n",
            "75%         0.000000    55.000000        89.875000        2.995833\n",
            "max         1.000000    72.000000       118.750000        3.958333\n",
            "\n",
            "Distribuição das variáveis em formato categórico:\n",
            "\n",
            "customerID:\n",
            "customerID\n",
            "9995-HOTOH    1\n",
            "0002-ORFBO    1\n",
            "0003-MKNFE    1\n",
            "9970-QBCDA    1\n",
            "9968-FFVVH    1\n",
            "             ..\n",
            "0014-BMAQU    1\n",
            "0013-SMEOE    1\n",
            "0013-MHZWF    1\n",
            "0013-EXCHZ    1\n",
            "0011-IGKFF    1\n",
            "Name: count, Length: 7267, dtype: int64\n",
            "\n",
            "Churn:\n",
            "Churn\n",
            "No     5174\n",
            "Yes    1869\n",
            "        224\n",
            "Name: count, dtype: int64\n",
            "\n",
            "gender:\n",
            "gender\n",
            "Male      3675\n",
            "Female    3592\n",
            "Name: count, dtype: int64\n",
            "\n",
            "Partner:\n",
            "Partner\n",
            "No     3749\n",
            "Yes    3518\n",
            "Name: count, dtype: int64\n",
            "\n",
            "Dependents:\n",
            "Dependents\n",
            "No     5086\n",
            "Yes    2181\n",
            "Name: count, dtype: int64\n",
            "\n",
            "PhoneService:\n",
            "PhoneService\n",
            "Yes    6560\n",
            "No      707\n",
            "Name: count, dtype: int64\n",
            "\n",
            "MultipleLines:\n",
            "MultipleLines\n",
            "No                  3495\n",
            "Yes                 3065\n",
            "No phone service     707\n",
            "Name: count, dtype: int64\n",
            "\n",
            "InternetService:\n",
            "InternetService\n",
            "Fiber optic    3198\n",
            "DSL            2488\n",
            "No             1581\n",
            "Name: count, dtype: int64\n",
            "\n",
            "OnlineSecurity:\n",
            "OnlineSecurity\n",
            "No                     3608\n",
            "Yes                    2078\n",
            "No internet service    1581\n",
            "Name: count, dtype: int64\n",
            "\n",
            "OnlineBackup:\n",
            "OnlineBackup\n",
            "No                     3182\n",
            "Yes                    2504\n",
            "No internet service    1581\n",
            "Name: count, dtype: int64\n",
            "\n",
            "DeviceProtection:\n",
            "DeviceProtection\n",
            "No                     3195\n",
            "Yes                    2491\n",
            "No internet service    1581\n",
            "Name: count, dtype: int64\n",
            "\n",
            "TechSupport:\n",
            "TechSupport\n",
            "No                     3582\n",
            "Yes                    2104\n",
            "No internet service    1581\n",
            "Name: count, dtype: int64\n",
            "\n",
            "StreamingTV:\n",
            "StreamingTV\n",
            "No                     2896\n",
            "Yes                    2790\n",
            "No internet service    1581\n",
            "Name: count, dtype: int64\n",
            "\n",
            "StreamingMovies:\n",
            "StreamingMovies\n",
            "No                     2870\n",
            "Yes                    2816\n",
            "No internet service    1581\n",
            "Name: count, dtype: int64\n",
            "\n",
            "Contract:\n",
            "Contract\n",
            "Month-to-month    4005\n",
            "Two year          1743\n",
            "One year          1519\n",
            "Name: count, dtype: int64\n",
            "\n",
            "PaperlessBilling:\n",
            "PaperlessBilling\n",
            "Yes    4311\n",
            "No     2956\n",
            "Name: count, dtype: int64\n",
            "\n",
            "PaymentMethod:\n",
            "PaymentMethod\n",
            "Electronic check             2445\n",
            "Mailed check                 1665\n",
            "Bank transfer (automatic)    1589\n",
            "Credit card (automatic)      1568\n",
            "Name: count, dtype: int64\n",
            "\n",
            "Charges.Total:\n",
            "Charges.Total\n",
            "          11\n",
            "20.2      11\n",
            "19.55      9\n",
            "19.9       9\n",
            "19.75      9\n",
            "          ..\n",
            "99.6       1\n",
            "99.95      1\n",
            "990.3      1\n",
            "979.5      1\n",
            "100.25     1\n",
            "Name: count, Length: 6531, dtype: int64\n"
          ]
        }
      ]
    },
    {
      "cell_type": "markdown",
      "source": [
        "# Análise de Evasão -- Churn\n"
      ],
      "metadata": {
        "id": "kVDewBaNxTpR"
      }
    },
    {
      "cell_type": "code",
      "source": [
        "plt.figure(figsize=(8, 6))\n",
        "sns.countplot(data=dados, x='Churn')\n",
        "plt.title('Distribuição de Churn')\n",
        "plt.show()\n",
        "\n",
        "print(\"\\nPercentual de Churn:\")\n",
        "print(dados['Churn'].value_counts(normalize=True) * 100)"
      ],
      "metadata": {
        "colab": {
          "base_uri": "https://localhost:8080/",
          "height": 685
        },
        "id": "C_Z3MoObxUH_",
        "outputId": "74e02f3c-343a-42bd-864e-5963637e81ae"
      },
      "execution_count": 24,
      "outputs": [
        {
          "output_type": "display_data",
          "data": {
            "text/plain": [
              "<Figure size 800x600 with 1 Axes>"
            ],
            "image/png": "[encoded data removed]"
          },
          "metadata": {}
        },
        {
          "output_type": "stream",
          "name": "stdout",
          "text": [
            "\n",
            "Percentual de Churn:\n",
            "Churn\n",
            "No     71.198569\n",
            "Yes    25.719004\n",
            "        3.082427\n",
            "Name: proportion, dtype: float64\n"
          ]
        }
      ]
    },
    {
      "cell_type": "markdown",
      "source": [
        "# Visualizações por Categorias"
      ],
      "metadata": {
        "id": "AIlsuJ72Bov-"
      }
    },
    {
      "cell_type": "code",
      "source": [
        "cat_vars = ['gender', 'Contract', 'PaymentMethod']\n",
        "\n",
        "fig, axes = plt.subplots(1, 3, figsize=(18, 6))\n",
        "for i, var in enumerate(cat_vars):\n",
        "    sns.countplot(data=dados, x=var, hue='Churn', ax=axes[i])\n",
        "    axes[i].set_title(f\"Churn por {var}\")\n",
        "    axes[i].tick_params(axis='x', rotation=45)\n",
        "plt.tight_layout()\n",
        "plt.show()"
      ],
      "metadata": {
        "colab": {
          "base_uri": "https://localhost:8080/",
          "height": 403
        },
        "id": "vlMhd_WHBog0",
        "outputId": "d216e389-a699-4095-cca7-fd55bccdb7e3"
      },
      "execution_count": 25,
      "outputs": [
        {
          "output_type": "display_data",
          "data": {
            "text/plain": [
              "<Figure size 1800x600 with 3 Axes>"
            ],
            "image/png": "[encoded data removed]"
          },
          "metadata": {}
        }
      ]
    },
    {
      "cell_type": "markdown",
      "source": [
        "# Análise de Correlações"
      ],
      "metadata": {
        "id": "KNXsJWAvRrzj"
      }
    },
    {
      "cell_type": "code",
      "source": [
        "num_vars = dados.select_dtypes(include=['float64', 'int64']).columns\n",
        "\n",
        "plt.figure(figsize=(10, 8))\n",
        "sns.heatmap(dados[num_vars].corr(), annot=True, cmap='coolwarm', center=0)\n",
        "plt.title('Matriz de Correlação')\n",
        "plt.show()"
      ],
      "metadata": {
        "colab": {
          "base_uri": "https://localhost:8080/",
          "height": 699
        },
        "id": "h_HkbvDlRrqY",
        "outputId": "5512fb01-81a9-42b5-a797-640871495c5b"
      },
      "execution_count": 26,
      "outputs": [
        {
          "output_type": "display_data",
          "data": {
            "text/plain": [
              "<Figure size 1000x800 with 2 Axes>"
            ],
            "image/png": "[encoded data removed]"
          },
          "metadata": {}
        }
      ]
    },
    {
      "cell_type": "markdown",
      "source": [
        "#Relatorio Final\n"
      ],
      "metadata": {
        "id": "y6LBIiNbBwue"
      }
    },
    {
      "cell_type": "markdown",
      "source": [
        "\n",
        "\n",
        "## 1 -- Introdução\n",
        "\n",
        "  Este relatório apresenta os   resultados de uma análise aprofundada sobre a evasão de clientes (Churn) na empresa Telecom X, visando identificar fatores que contribuem para a saída de clientes e propor estratégias de retenção.\n",
        "\n",
        "\n",
        "## 2 -- Limpeza e Tratamento de Dados\n",
        "\n",
        "  *   Importação dos dados via API JSON\n",
        "  *   Normalização das colunas aninhadas\n",
        "  *   Remoção de duplicatas\n",
        "  *   Conversão apropriada dos tipos de dados\n",
        "  *   Criação da coluna de custos diários\n",
        "\n",
        "## 3 -- Análise Exploratória\n",
        "\n",
        "  3.1 - Visão Geral\n",
        "  *   Taxa de Evasão: 25.72% dos clientes cancelaram o serviço\n",
        "  *   Taxa de Retenção: 71.20% permaneceram como clientes\n",
        "\n",
        "  3.2 - Perfil dos Clientes\n",
        "\n",
        "  *  Tempo médio de permanência: 32.3 meses\n",
        "  *  Valor médio da conta mensal: R$ 64.72\n",
        "  *  16.3% são clientes idosos\n",
        "\n",
        "  3.3 - Distribuição de Serviços\n",
        "\n",
        "-- Internet:\n",
        "\n",
        "*   Fibra Ótica: 44.0%\n",
        "*   DSL: 34.2%\n",
        "*   Sem Internet: 21.8%\n",
        "\n",
        "-- Contratos:\n",
        "*   Mensal: 55.1%\n",
        "*   Dois Anos: 24.0%\n",
        "*   Um Ano: 20.9%\n",
        "\n",
        "## 4 -- Conclusões e Insights\n",
        "\n",
        "  *   Uma taxa de evasão de 25.72% é considerável alarmante, sendo necessário atenção.\n",
        "  *   Contratos mensais tem um maior destaque, sendo optado por mais da metade dos clientes (55.2%).\n",
        "  *   Fibra ótica é o serviço de internet maior destaque.\n",
        "  *   O tempo médio de permanência é contínuo, indicando uma base de clientes relativamente estável.\n",
        "\n",
        "## 5 -- Recomendações\n",
        "\n",
        "  *   Incentivar Contratos de Longo Prazo:\n",
        "  Oferecer descontos ou criação de planos com maiores vantagens para incentivar a migração de contratos mensais para anuais.\n",
        "\n",
        "  *   Monitorar Clientes de Fibra Óptica:\n",
        "  Incentivar os clientes de Fibra Óptica a participarem de pesquisas de satisfação para identificar pontos de insatisfação.\n",
        "\n",
        "  *   Maior atenção aos Clientes Idosos:\n",
        "  Oferecer canais de suporte mais acessíveis e simplificados, e oferecer pacotes de serviços adaptados para clientes idosos.\n",
        "\n",
        "  *  Precificação Estratégica:\n",
        "  Avaliar a política de precificação, levando em consideração o preço médio de R$ 64.72.\n",
        "\n",
        "  *   Promover Serviços de Valor Agregado:\n",
        "  Reforçar a importância de outros serviços oferecidos, como Segurança Online, Suporte Técnico e Pesquisa de Qualidade."
      ],
      "metadata": {
        "id": "Y7izKKluC8yS"
      }
    }
  ]
}